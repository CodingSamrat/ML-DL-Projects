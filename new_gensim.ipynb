{
 "cells": [
  {
   "cell_type": "code",
   "execution_count": 5,
   "metadata": {},
   "outputs": [
    {
     "data": {
      "text/html": [
       "<div>\n",
       "<style scoped>\n",
       "    .dataframe tbody tr th:only-of-type {\n",
       "        vertical-align: middle;\n",
       "    }\n",
       "\n",
       "    .dataframe tbody tr th {\n",
       "        vertical-align: top;\n",
       "    }\n",
       "\n",
       "    .dataframe thead th {\n",
       "        text-align: right;\n",
       "    }\n",
       "</style>\n",
       "<table border=\"1\" class=\"dataframe\">\n",
       "  <thead>\n",
       "    <tr style=\"text-align: right;\">\n",
       "      <th></th>\n",
       "      <th>text</th>\n",
       "      <th>label</th>\n",
       "    </tr>\n",
       "  </thead>\n",
       "  <tbody>\n",
       "    <tr>\n",
       "      <th>0</th>\n",
       "      <td>Donald Trump just couldn t wish all Americans ...</td>\n",
       "      <td>News</td>\n",
       "    </tr>\n",
       "    <tr>\n",
       "      <th>1</th>\n",
       "      <td>House Intelligence Committee Chairman Devin Nu...</td>\n",
       "      <td>News</td>\n",
       "    </tr>\n",
       "    <tr>\n",
       "      <th>2</th>\n",
       "      <td>On Friday, it was revealed that former Milwauk...</td>\n",
       "      <td>News</td>\n",
       "    </tr>\n",
       "    <tr>\n",
       "      <th>3</th>\n",
       "      <td>On Christmas day, Donald Trump announced that ...</td>\n",
       "      <td>News</td>\n",
       "    </tr>\n",
       "    <tr>\n",
       "      <th>4</th>\n",
       "      <td>Pope Francis used his annual Christmas Day mes...</td>\n",
       "      <td>News</td>\n",
       "    </tr>\n",
       "  </tbody>\n",
       "</table>\n",
       "</div>"
      ],
      "text/plain": [
       "                                                text label\n",
       "0  Donald Trump just couldn t wish all Americans ...  News\n",
       "1  House Intelligence Committee Chairman Devin Nu...  News\n",
       "2  On Friday, it was revealed that former Milwauk...  News\n",
       "3  On Christmas day, Donald Trump announced that ...  News\n",
       "4  Pope Francis used his annual Christmas Day mes...  News"
      ]
     },
     "execution_count": 5,
     "metadata": {},
     "output_type": "execute_result"
    }
   ],
   "source": [
    "import pandas as pd\n",
    "\n",
    "\n",
    "df_ = pd.read_csv(\"FakeNews.csv\")\n",
    "\n",
    "df = pd.DataFrame()\n",
    "\n",
    "df['text'] = df_['text']\n",
    "df['label'] = df_['subject']\n",
    "df.head()"
   ]
  },
  {
   "cell_type": "code",
   "execution_count": 6,
   "metadata": {},
   "outputs": [],
   "source": [
    "df.drop_duplicates(inplace=True)"
   ]
  },
  {
   "cell_type": "code",
   "execution_count": 11,
   "metadata": {},
   "outputs": [],
   "source": [
    "import re\n",
    "def remove_tags(text):\n",
    "    text = re.sub(r'[^\\w\\s\\']',' ', text)\n",
    "    text = re.sub(' +', ' ', text)\n",
    "    return text.strip().lower() "
   ]
  },
  {
   "cell_type": "code",
   "execution_count": 16,
   "metadata": {},
   "outputs": [],
   "source": [
    "df['text'] = df['text'].map(remove_tags)"
   ]
  },
  {
   "cell_type": "code",
   "execution_count": 17,
   "metadata": {},
   "outputs": [
    {
     "data": {
      "text/plain": [
       "0        donald trump just couldn t wish all americans ...\n",
       "1        house intelligence committee chairman devin nu...\n",
       "2        on friday it was revealed that former milwauke...\n",
       "3        on christmas day donald trump announced that h...\n",
       "4        pope francis used his annual christmas day mes...\n",
       "                               ...                        \n",
       "23476    21st century wire says as 21wire reported earl...\n",
       "23477    21st century wire says it s a familiar theme w...\n",
       "23478    patrick henningsen 21st century wireremember w...\n",
       "23479    21st century wire says al jazeera america will...\n",
       "23480    21st century wire says as 21wire predicted in ...\n",
       "Name: text, Length: 22840, dtype: object"
      ]
     },
     "execution_count": 17,
     "metadata": {},
     "output_type": "execute_result"
    }
   ],
   "source": [
    "df['text']"
   ]
  },
  {
   "cell_type": "code",
   "execution_count": null,
   "metadata": {},
   "outputs": [],
   "source": [
    "stopwords = ['i', 'me', 'my', 'myself', 'we', 'our', 'ours', 'ourselves', 'you', \"you're\", \"you've\", \"you'll\", \"you'd\", 'your', 'yours', 'yourself', 'yourselves', 'he', 'him', 'his', 'himself', 'she', \"she's\", 'her', 'hers', 'herself', 'it', \"it's\", 'its', 'itself', 'they', 'them', 'their', 'theirs', 'themselves', 'what', 'which', 'who', 'whom', 'this', 'that', \"that'll\", 'these', 'those', 'am', 'is', 'are', 'was', 'were', 'be', 'been', 'being', 'have', 'has', 'had', 'having', 'do', 'does', 'did', 'doing', 'a', 'an', 'the', 'and', 'but', 'if', 'or', 'because', 'as', 'until', 'while', 'of', 'at', 'by', 'for', 'with', 'about', 'against', 'between', 'into', 'through', 'during', 'before', 'after', 'above', 'below', 'to', 'from', 'up', 'down', 'in', 'out', 'on', 'off', 'over', 'under', 'again', 'further', 'then', 'once', 'here', 'there', 'when', 'where', 'why', 'how', 'all', 'any', 'both', 'each', 'few', 'more', 'most', 'other', 'some', 'such', 'no', 'nor', 'not', 'only', 'own', 'same', 'so', 'than', 'too', 'very', 's', 't', 'can', 'will', 'just', 'don', \"don't\", 'should', \"should've\", 'now', 'd', 'll', 'm', 'o', 're', 've', 'y', 'ain', 'aren', \"aren't\", 'couldn', \"couldn't\", 'didn', \"didn't\", 'doesn', \"doesn't\", 'hadn', \"hadn't\", 'hasn', \"hasn't\", 'haven', \"haven't\", 'isn', \"isn't\", 'ma', 'mightn', \"mightn't\", 'mustn', \"mustn't\", 'needn', \"needn't\", 'shan', \"shan't\", 'shouldn', \"shouldn't\", 'wasn', \"wasn't\", 'weren', \"weren't\", 'won', \"won't\", 'wouldn', \"wouldn't\"]\n",
    "\n",
    "\n",
    "\n",
    "df['review'] = df['review'].apply(lambda x: [item for item in x.split() if item not in stopwords]).apply(lambda x:\" \".join(x))"
   ]
  },
  {
   "cell_type": "code",
   "execution_count": 18,
   "metadata": {},
   "outputs": [],
   "source": [
    "import gensim\n",
    "from nltk import sent_tokenize\n",
    "from gensim.utils import simple_preprocess"
   ]
  },
  {
   "cell_type": "code",
   "execution_count": 25,
   "metadata": {},
   "outputs": [],
   "source": [
    "story = []\n",
    "for doc in df['text']:\n",
    "    raw_sent = sent_tokenize(doc)\n",
    "    for sent in raw_sent:\n",
    "        story.append(simple_preprocess(sent))"
   ]
  },
  {
   "cell_type": "code",
   "execution_count": 27,
   "metadata": {},
   "outputs": [],
   "source": [
    "model = gensim.models.Word2Vec(\n",
    "    window=10,\n",
    "    min_count=2\n",
    ")\n"
   ]
  },
  {
   "cell_type": "code",
   "execution_count": 28,
   "metadata": {},
   "outputs": [
    {
     "data": {
      "text/plain": [
       "(38440041, 48097300)"
      ]
     },
     "execution_count": 28,
     "metadata": {},
     "output_type": "execute_result"
    }
   ],
   "source": [
    "model.build_vocab(story)\n",
    "model.train(story, total_examples=model.corpus_count, epochs=model.epochs)"
   ]
  },
  {
   "cell_type": "code",
   "execution_count": 29,
   "metadata": {},
   "outputs": [
    {
     "data": {
      "text/plain": [
       "61610"
      ]
     },
     "execution_count": 29,
     "metadata": {},
     "output_type": "execute_result"
    }
   ],
   "source": [
    "len(model.wv.index_to_key)"
   ]
  },
  {
   "cell_type": "code",
   "execution_count": 31,
   "metadata": {},
   "outputs": [],
   "source": [
    "import numpy as np\n",
    "def document_vector(doc):\n",
    "    # remove out-of-vocabulary words\n",
    "    doc = [word for word in doc.split() if word in model.wv.index_to_key]\n",
    "    return np.mean(model.wv[doc], axis=0)"
   ]
  },
  {
   "cell_type": "code",
   "execution_count": 36,
   "metadata": {},
   "outputs": [
    {
     "data": {
      "text/plain": [
       "array([-0.43606296, -1.0358564 ,  0.10183568, -0.07360886, -0.7903454 ,\n",
       "        0.00634428, -0.62952036, -0.05360719, -0.02226407, -0.41120178,\n",
       "        0.32399017,  0.03181547, -0.01434001,  0.17220597,  0.13205795,\n",
       "        0.03065369, -0.93876016,  0.54615337, -0.4942777 , -0.03296059,\n",
       "       -0.5831057 ,  0.07864317,  0.3320933 , -0.818315  ,  0.2462386 ,\n",
       "        0.26864332, -0.68359816, -0.7881865 , -0.11453448, -0.5474589 ,\n",
       "       -0.43625957, -0.5642778 ,  0.20903462,  0.02808282,  0.7275144 ,\n",
       "        0.20721221, -0.31667146,  0.2538388 , -0.23930463,  1.1477997 ,\n",
       "       -0.61605746,  0.07699516,  0.18690178,  1.2064406 ,  0.44960484,\n",
       "        0.3153007 ,  0.06894444,  0.05744451, -0.42010784,  0.01566507,\n",
       "       -0.73902285,  0.17750819, -0.7501287 ,  0.69363075,  0.9897044 ,\n",
       "        0.5872572 ,  0.07073455, -0.15474907,  0.59777945,  0.72335845,\n",
       "        0.19930789,  0.41706693, -0.07126419,  0.34723312,  0.07780281,\n",
       "       -0.10166198,  0.00390629, -0.26659542, -0.21302088, -0.16460946,\n",
       "        0.0931155 ,  0.5690108 , -0.08740824,  0.4399933 ,  0.2760421 ,\n",
       "       -0.562139  ,  0.7406804 , -0.24420623,  0.15413782,  0.23798111,\n",
       "       -0.13654605, -0.143284  ,  0.28690335, -0.5637957 , -0.18564375,\n",
       "        0.14141768, -0.6212891 , -0.19957566, -0.37479424,  0.3633702 ,\n",
       "        0.01315514, -0.01539528,  0.25407597, -0.5953805 , -0.6026581 ,\n",
       "       -0.5695204 ,  0.06614628,  0.3126194 ,  0.5093438 , -0.12433676],\n",
       "      dtype=float32)"
      ]
     },
     "execution_count": 36,
     "metadata": {},
     "output_type": "execute_result"
    }
   ],
   "source": [
    "document_vector(df['text'].values[1])"
   ]
  },
  {
   "cell_type": "code",
   "execution_count": 39,
   "metadata": {},
   "outputs": [
    {
     "name": "stderr",
     "output_type": "stream",
     "text": [
      "100%|██████████| 100/100 [00:29<00:00,  3.36it/s]\n"
     ]
    }
   ],
   "source": [
    "from tqdm import tqdm\n",
    "X = []\n",
    "for doc in tqdm(df['text'].values[:100]):\n",
    "    X.append(document_vector(doc))"
   ]
  },
  {
   "cell_type": "code",
   "execution_count": 42,
   "metadata": {},
   "outputs": [
    {
     "data": {
      "text/plain": [
       "array([-0.43606296, -1.0358564 ,  0.10183568, -0.07360886, -0.7903454 ,\n",
       "        0.00634428, -0.62952036, -0.05360719, -0.02226407, -0.41120178,\n",
       "        0.32399017,  0.03181547, -0.01434001,  0.17220597,  0.13205795,\n",
       "        0.03065369, -0.93876016,  0.54615337, -0.4942777 , -0.03296059,\n",
       "       -0.5831057 ,  0.07864317,  0.3320933 , -0.818315  ,  0.2462386 ,\n",
       "        0.26864332, -0.68359816, -0.7881865 , -0.11453448, -0.5474589 ,\n",
       "       -0.43625957, -0.5642778 ,  0.20903462,  0.02808282,  0.7275144 ,\n",
       "        0.20721221, -0.31667146,  0.2538388 , -0.23930463,  1.1477997 ,\n",
       "       -0.61605746,  0.07699516,  0.18690178,  1.2064406 ,  0.44960484,\n",
       "        0.3153007 ,  0.06894444,  0.05744451, -0.42010784,  0.01566507,\n",
       "       -0.73902285,  0.17750819, -0.7501287 ,  0.69363075,  0.9897044 ,\n",
       "        0.5872572 ,  0.07073455, -0.15474907,  0.59777945,  0.72335845,\n",
       "        0.19930789,  0.41706693, -0.07126419,  0.34723312,  0.07780281,\n",
       "       -0.10166198,  0.00390629, -0.26659542, -0.21302088, -0.16460946,\n",
       "        0.0931155 ,  0.5690108 , -0.08740824,  0.4399933 ,  0.2760421 ,\n",
       "       -0.562139  ,  0.7406804 , -0.24420623,  0.15413782,  0.23798111,\n",
       "       -0.13654605, -0.143284  ,  0.28690335, -0.5637957 , -0.18564375,\n",
       "        0.14141768, -0.6212891 , -0.19957566, -0.37479424,  0.3633702 ,\n",
       "        0.01315514, -0.01539528,  0.25407597, -0.5953805 , -0.6026581 ,\n",
       "       -0.5695204 ,  0.06614628,  0.3126194 ,  0.5093438 , -0.12433676],\n",
       "      dtype=float32)"
      ]
     },
     "execution_count": 42,
     "metadata": {},
     "output_type": "execute_result"
    }
   ],
   "source": [
    "X[1]"
   ]
  },
  {
   "cell_type": "code",
   "execution_count": 46,
   "metadata": {},
   "outputs": [
    {
     "data": {
      "text/plain": [
       "array([0, 0, 0, 0, 0, 0, 0, 0, 0, 0, 0, 0, 0, 0, 0, 0, 0, 0, 0, 0, 0, 0,\n",
       "       0, 0, 0, 0, 0, 0, 0, 0, 0, 0, 0, 0, 0, 0, 0, 0, 0, 0, 0, 0, 0, 0,\n",
       "       0, 0, 0, 0, 0, 0, 0, 0, 0, 0, 0, 0, 0, 0, 0, 0, 0, 0, 0, 0, 0, 0,\n",
       "       0, 0, 0, 0, 0, 0, 0, 0, 0, 0, 0, 0, 0, 0, 0, 0, 0, 0, 0, 0, 0, 0,\n",
       "       0, 0, 0, 0, 0, 0, 0, 0, 0, 0, 0, 0])"
      ]
     },
     "execution_count": 46,
     "metadata": {},
     "output_type": "execute_result"
    }
   ],
   "source": [
    "from sklearn.preprocessing import LabelEncoder\n",
    "encoder = LabelEncoder()\n",
    "\n",
    "y = encoder.fit_transform(df['label'][:100])\n",
    "y"
   ]
  },
  {
   "cell_type": "code",
   "execution_count": 47,
   "metadata": {},
   "outputs": [],
   "source": [
    "from sklearn.model_selection import train_test_split\n",
    "X_train,X_test,y_train,y_test = train_test_split(X,y,test_size=0.2,random_state=1)"
   ]
  },
  {
   "cell_type": "code",
   "execution_count": 48,
   "metadata": {},
   "outputs": [],
   "source": [
    "from sklearn.ensemble import RandomForestClassifier\n",
    "from sklearn.metrics import accuracy_score"
   ]
  },
  {
   "cell_type": "code",
   "execution_count": 49,
   "metadata": {},
   "outputs": [
    {
     "data": {
      "text/plain": [
       "1.0"
      ]
     },
     "execution_count": 49,
     "metadata": {},
     "output_type": "execute_result"
    }
   ],
   "source": [
    "rf = RandomForestClassifier()\n",
    "rf.fit(X_train,y_train)\n",
    "y_pred = rf.predict(X_test)\n",
    "accuracy_score(y_test,y_pred)"
   ]
  }
 ],
 "metadata": {
  "kernelspec": {
   "display_name": "Python 3",
   "language": "python",
   "name": "python3"
  },
  "language_info": {
   "codemirror_mode": {
    "name": "ipython",
    "version": 3
   },
   "file_extension": ".py",
   "mimetype": "text/x-python",
   "name": "python",
   "nbconvert_exporter": "python",
   "pygments_lexer": "ipython3",
   "version": "3.10.1"
  },
  "orig_nbformat": 4,
  "vscode": {
   "interpreter": {
    "hash": "369f2c481f4da34e4445cda3fffd2e751bd1c4d706f27375911949ba6bb62e1c"
   }
  }
 },
 "nbformat": 4,
 "nbformat_minor": 2
}
